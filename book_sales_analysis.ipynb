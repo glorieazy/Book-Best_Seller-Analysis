{
 "cells": [
  {
   "cell_type": "markdown",
   "id": "8814796a",
   "metadata": {},
   "source": [
    "## Overview\n",
    "\n",
    "#### This is a project from DataInMotion, a community for skill & career development data. The data was provided, to be analysed and give insightful solution to the folowing problem statements. The dataset contains 550 observations (rows) and 7 variables (columns)\n",
    "\n",
    "1. Is there any missing data?\n",
    "2. Are there any duplicates?\n",
    "3. Are there any spelling errors in the Name column?\n",
    "4. Create a plot showing the top 10 authors by rating.\n",
    "5. Create a pie chart showing the distribution of book genre.\n",
    "6. Create a plot showing the top 5 books by number of reviews.\n",
    "7. Are there any outliers?\n",
    "##### <span style='color: red;'>BONUS:</span>\n",
    "8. What is the average price of Books are sold each year categorized by their Genres?\n",
    "19. What is the average review of books per year categorized by their Genres?\n",
    "10. What is the correlation between the numerical columns?"
   ]
  },
  {
   "cell_type": "code",
   "execution_count": 51,
   "id": "95135179",
   "metadata": {},
   "outputs": [],
   "source": [
    "#import the necessary modules\n",
    "import pandas as pd\n",
    "import numpy as np\n",
    "import seaborn as sns\n",
    "import matplotlib.pyplot as plt\n",
    "%matplotlib inline\n",
    "plt.style.use('classic')"
   ]
  },
  {
   "cell_type": "markdown",
   "id": "9f2e3799",
   "metadata": {},
   "source": [
    "### Data Inspection and Cleaning"
   ]
  },
  {
   "cell_type": "code",
   "execution_count": 52,
   "id": "f1c35239",
   "metadata": {},
   "outputs": [],
   "source": [
    "#load the dataset\n",
    "df = pd.read_csv('bestsellers.csv')"
   ]
  },
  {
   "cell_type": "code",
   "execution_count": 53,
   "id": "e1c00cef",
   "metadata": {},
   "outputs": [
    {
     "data": {
      "text/html": [
       "<div>\n",
       "<style scoped>\n",
       "    .dataframe tbody tr th:only-of-type {\n",
       "        vertical-align: middle;\n",
       "    }\n",
       "\n",
       "    .dataframe tbody tr th {\n",
       "        vertical-align: top;\n",
       "    }\n",
       "\n",
       "    .dataframe thead th {\n",
       "        text-align: right;\n",
       "    }\n",
       "</style>\n",
       "<table border=\"1\" class=\"dataframe\">\n",
       "  <thead>\n",
       "    <tr style=\"text-align: right;\">\n",
       "      <th></th>\n",
       "      <th>Name</th>\n",
       "      <th>Author</th>\n",
       "      <th>User Rating</th>\n",
       "      <th>Reviews</th>\n",
       "      <th>Price</th>\n",
       "      <th>Year</th>\n",
       "      <th>Genre</th>\n",
       "    </tr>\n",
       "  </thead>\n",
       "  <tbody>\n",
       "    <tr>\n",
       "      <th>23</th>\n",
       "      <td>American Sniper: The Autobiography of the Most...</td>\n",
       "      <td>Chris Kyle</td>\n",
       "      <td>4.6</td>\n",
       "      <td>15921</td>\n",
       "      <td>9</td>\n",
       "      <td>2015</td>\n",
       "      <td>Non Fiction</td>\n",
       "    </tr>\n",
       "    <tr>\n",
       "      <th>392</th>\n",
       "      <td>The Goldfinch: A Novel (Pulitzer Prize for Fic...</td>\n",
       "      <td>Donna Tartt</td>\n",
       "      <td>3.9</td>\n",
       "      <td>33844</td>\n",
       "      <td>20</td>\n",
       "      <td>2013</td>\n",
       "      <td>Fiction</td>\n",
       "    </tr>\n",
       "    <tr>\n",
       "      <th>368</th>\n",
       "      <td>The Fault in Our Stars</td>\n",
       "      <td>John Green</td>\n",
       "      <td>4.7</td>\n",
       "      <td>50482</td>\n",
       "      <td>13</td>\n",
       "      <td>2014</td>\n",
       "      <td>Fiction</td>\n",
       "    </tr>\n",
       "    <tr>\n",
       "      <th>363</th>\n",
       "      <td>The Dukan Diet: 2 Steps to Lose the Weight, 2 ...</td>\n",
       "      <td>Pierre Dukan</td>\n",
       "      <td>4.1</td>\n",
       "      <td>2023</td>\n",
       "      <td>15</td>\n",
       "      <td>2011</td>\n",
       "      <td>Non Fiction</td>\n",
       "    </tr>\n",
       "    <tr>\n",
       "      <th>301</th>\n",
       "      <td>Steve Jobs</td>\n",
       "      <td>Walter Isaacson</td>\n",
       "      <td>4.6</td>\n",
       "      <td>7827</td>\n",
       "      <td>20</td>\n",
       "      <td>2011</td>\n",
       "      <td>Non Fiction</td>\n",
       "    </tr>\n",
       "  </tbody>\n",
       "</table>\n",
       "</div>"
      ],
      "text/plain": [
       "                                                  Name           Author  \\\n",
       "23   American Sniper: The Autobiography of the Most...       Chris Kyle   \n",
       "392  The Goldfinch: A Novel (Pulitzer Prize for Fic...      Donna Tartt   \n",
       "368                             The Fault in Our Stars       John Green   \n",
       "363  The Dukan Diet: 2 Steps to Lose the Weight, 2 ...     Pierre Dukan   \n",
       "301                                         Steve Jobs  Walter Isaacson   \n",
       "\n",
       "     User Rating  Reviews  Price  Year        Genre  \n",
       "23           4.6    15921      9  2015  Non Fiction  \n",
       "392          3.9    33844     20  2013      Fiction  \n",
       "368          4.7    50482     13  2014      Fiction  \n",
       "363          4.1     2023     15  2011  Non Fiction  \n",
       "301          4.6     7827     20  2011  Non Fiction  "
      ]
     },
     "execution_count": 53,
     "metadata": {},
     "output_type": "execute_result"
    }
   ],
   "source": [
    "#checp for any samples from the dataset\n",
    "df.sample(5)"
   ]
  },
  {
   "cell_type": "code",
   "execution_count": 54,
   "id": "da96c43e",
   "metadata": {},
   "outputs": [
    {
     "name": "stdout",
     "output_type": "stream",
     "text": [
      "<class 'pandas.core.frame.DataFrame'>\n",
      "RangeIndex: 550 entries, 0 to 549\n",
      "Data columns (total 7 columns):\n",
      " #   Column       Non-Null Count  Dtype  \n",
      "---  ------       --------------  -----  \n",
      " 0   Name         550 non-null    object \n",
      " 1   Author       550 non-null    object \n",
      " 2   User Rating  550 non-null    float64\n",
      " 3   Reviews      550 non-null    int64  \n",
      " 4   Price        550 non-null    int64  \n",
      " 5   Year         550 non-null    int64  \n",
      " 6   Genre        550 non-null    object \n",
      "dtypes: float64(1), int64(3), object(3)\n",
      "memory usage: 30.2+ KB\n"
     ]
    }
   ],
   "source": [
    "#get information about the dataset\n",
    "df.info()"
   ]
  },
  {
   "cell_type": "code",
   "execution_count": 55,
   "id": "88b21666",
   "metadata": {},
   "outputs": [],
   "source": [
    "#rename the columns names\n",
    "df.rename(columns={'Name':'name', \n",
    "                   'Author': 'author', \n",
    "                   'User Rating': 'user_rating',\n",
    "                   'Reviews': 'review',\n",
    "                   'Price':'price', \n",
    "                   'Year':'year', \n",
    "                   'Genre':'genre'}, inplace=True)"
   ]
  },
  {
   "cell_type": "code",
   "execution_count": 56,
   "id": "67488003",
   "metadata": {},
   "outputs": [
    {
     "data": {
      "text/html": [
       "<div>\n",
       "<style scoped>\n",
       "    .dataframe tbody tr th:only-of-type {\n",
       "        vertical-align: middle;\n",
       "    }\n",
       "\n",
       "    .dataframe tbody tr th {\n",
       "        vertical-align: top;\n",
       "    }\n",
       "\n",
       "    .dataframe thead th {\n",
       "        text-align: right;\n",
       "    }\n",
       "</style>\n",
       "<table border=\"1\" class=\"dataframe\">\n",
       "  <thead>\n",
       "    <tr style=\"text-align: right;\">\n",
       "      <th></th>\n",
       "      <th>name</th>\n",
       "      <th>author</th>\n",
       "      <th>user_rating</th>\n",
       "      <th>review</th>\n",
       "      <th>price</th>\n",
       "      <th>year</th>\n",
       "      <th>genre</th>\n",
       "    </tr>\n",
       "  </thead>\n",
       "  <tbody>\n",
       "    <tr>\n",
       "      <th>0</th>\n",
       "      <td>10-Day Green Smoothie Cleanse</td>\n",
       "      <td>JJ Smith</td>\n",
       "      <td>4.7</td>\n",
       "      <td>17350</td>\n",
       "      <td>8</td>\n",
       "      <td>2016</td>\n",
       "      <td>Non Fiction</td>\n",
       "    </tr>\n",
       "    <tr>\n",
       "      <th>1</th>\n",
       "      <td>11/22/63: A Novel</td>\n",
       "      <td>Stephen King</td>\n",
       "      <td>4.6</td>\n",
       "      <td>2052</td>\n",
       "      <td>22</td>\n",
       "      <td>2011</td>\n",
       "      <td>Fiction</td>\n",
       "    </tr>\n",
       "    <tr>\n",
       "      <th>2</th>\n",
       "      <td>12 Rules for Life: An Antidote to Chaos</td>\n",
       "      <td>Jordan B. Peterson</td>\n",
       "      <td>4.7</td>\n",
       "      <td>18979</td>\n",
       "      <td>15</td>\n",
       "      <td>2018</td>\n",
       "      <td>Non Fiction</td>\n",
       "    </tr>\n",
       "    <tr>\n",
       "      <th>3</th>\n",
       "      <td>1984 (Signet Classics)</td>\n",
       "      <td>George Orwell</td>\n",
       "      <td>4.7</td>\n",
       "      <td>21424</td>\n",
       "      <td>6</td>\n",
       "      <td>2017</td>\n",
       "      <td>Fiction</td>\n",
       "    </tr>\n",
       "    <tr>\n",
       "      <th>4</th>\n",
       "      <td>5,000 Awesome Facts (About Everything!) (Natio...</td>\n",
       "      <td>National Geographic Kids</td>\n",
       "      <td>4.8</td>\n",
       "      <td>7665</td>\n",
       "      <td>12</td>\n",
       "      <td>2019</td>\n",
       "      <td>Non Fiction</td>\n",
       "    </tr>\n",
       "  </tbody>\n",
       "</table>\n",
       "</div>"
      ],
      "text/plain": [
       "                                                name  \\\n",
       "0                      10-Day Green Smoothie Cleanse   \n",
       "1                                  11/22/63: A Novel   \n",
       "2            12 Rules for Life: An Antidote to Chaos   \n",
       "3                             1984 (Signet Classics)   \n",
       "4  5,000 Awesome Facts (About Everything!) (Natio...   \n",
       "\n",
       "                     author  user_rating  review  price  year        genre  \n",
       "0                  JJ Smith          4.7   17350      8  2016  Non Fiction  \n",
       "1              Stephen King          4.6    2052     22  2011      Fiction  \n",
       "2        Jordan B. Peterson          4.7   18979     15  2018  Non Fiction  \n",
       "3             George Orwell          4.7   21424      6  2017      Fiction  \n",
       "4  National Geographic Kids          4.8    7665     12  2019  Non Fiction  "
      ]
     },
     "execution_count": 56,
     "metadata": {},
     "output_type": "execute_result"
    }
   ],
   "source": [
    "df.head()"
   ]
  },
  {
   "cell_type": "code",
   "execution_count": 57,
   "id": "85db1516",
   "metadata": {},
   "outputs": [
    {
     "data": {
      "text/plain": [
       "name           351\n",
       "author         248\n",
       "user_rating     14\n",
       "review         346\n",
       "price           40\n",
       "year            11\n",
       "genre            2\n",
       "dtype: int64"
      ]
     },
     "execution_count": 57,
     "metadata": {},
     "output_type": "execute_result"
    }
   ],
   "source": [
    "#check for the number of unique observations\n",
    "df.nunique()"
   ]
  },
  {
   "cell_type": "code",
   "execution_count": 58,
   "id": "1477e3e4",
   "metadata": {},
   "outputs": [
    {
     "data": {
      "text/plain": [
       "(550, 7)"
      ]
     },
     "execution_count": 58,
     "metadata": {},
     "output_type": "execute_result"
    }
   ],
   "source": [
    "#check the sahpe of the dataset\n",
    "df.shape"
   ]
  },
  {
   "cell_type": "markdown",
   "id": "ddcd4a47",
   "metadata": {},
   "source": [
    "#### Question 1: Is there any missing data? "
   ]
  },
  {
   "cell_type": "code",
   "execution_count": 59,
   "id": "76452217",
   "metadata": {},
   "outputs": [
    {
     "data": {
      "text/plain": [
       "name           0\n",
       "author         0\n",
       "user_rating    0\n",
       "review         0\n",
       "price          0\n",
       "year           0\n",
       "genre          0\n",
       "dtype: int64"
      ]
     },
     "execution_count": 59,
     "metadata": {},
     "output_type": "execute_result"
    }
   ],
   "source": [
    "#check for the null values in the dataset\n",
    "df.isna().sum()"
   ]
  },
  {
   "cell_type": "markdown",
   "id": "29ed5f0a",
   "metadata": {},
   "source": [
    "##### <span style='color: blue;'>Answer: No, there is no missing data in the dataset</span>"
   ]
  },
  {
   "cell_type": "markdown",
   "id": "5d945b94",
   "metadata": {},
   "source": []
  },
  {
   "cell_type": "markdown",
   "id": "becccb72",
   "metadata": {},
   "source": [
    "#### Question 2: Are there any duplicates?"
   ]
  },
  {
   "cell_type": "code",
   "execution_count": 60,
   "id": "6f286d9d",
   "metadata": {},
   "outputs": [
    {
     "data": {
      "text/plain": [
       "0"
      ]
     },
     "execution_count": 60,
     "metadata": {},
     "output_type": "execute_result"
    }
   ],
   "source": [
    "#check for any duplicates\n",
    "df.duplicated().sum()"
   ]
  },
  {
   "cell_type": "markdown",
   "id": "d4dd8074",
   "metadata": {},
   "source": [
    "##### <span style='color: blue;'>Answer: There is no duplicate data </span>"
   ]
  },
  {
   "cell_type": "markdown",
   "id": "e46fd5de",
   "metadata": {},
   "source": []
  },
  {
   "cell_type": "markdown",
   "id": "9c017af2",
   "metadata": {},
   "source": [
    "#### Question 3: Are there any spelling errors in the Name column?"
   ]
  },
  {
   "cell_type": "code",
   "execution_count": 61,
   "id": "5b232668",
   "metadata": {},
   "outputs": [
    {
     "data": {
      "text/plain": [
       "Publication Manual of the American Psychological Association, 6th Edition            10\n",
       "StrengthsFinder 2.0                                                                   9\n",
       "Oh, the Places You'll Go!                                                             8\n",
       "The 7 Habits of Highly Effective People: Powerful Lessons in Personal Change          7\n",
       "The Very Hungry Caterpillar                                                           7\n",
       "The Four Agreements: A Practical Guide to Personal Freedom (A Toltec Wisdom Book)     6\n",
       "Jesus Calling: Enjoying Peace in His Presence (with Scripture References)             6\n",
       "Unbroken: A World War II Story of Survival, Resilience, and Redemption                5\n",
       "First 100 Words                                                                       5\n",
       "The Five Dysfunctions of a Team: A Leadership Fable                                   5\n",
       "Name: name, dtype: int64"
      ]
     },
     "execution_count": 61,
     "metadata": {},
     "output_type": "execute_result"
    }
   ],
   "source": [
    "df['name'].value_counts().head(10)"
   ]
  },
  {
   "cell_type": "markdown",
   "id": "12e49a5a",
   "metadata": {},
   "source": [
    "##### <span style='color: blue;'>Answer: There is no spelling error in the Name column, The titles contain much details about the book. Too long though. My sugestion is that, it should be splitted into two columns (title and description)</span>"
   ]
  },
  {
   "cell_type": "markdown",
   "id": "d5a843ee",
   "metadata": {},
   "source": []
  },
  {
   "cell_type": "markdown",
   "id": "86f0e3b5",
   "metadata": {},
   "source": []
  },
  {
   "cell_type": "markdown",
   "id": "6f525875",
   "metadata": {},
   "source": []
  },
  {
   "cell_type": "markdown",
   "id": "7f4d979c",
   "metadata": {},
   "source": []
  },
  {
   "cell_type": "markdown",
   "id": "9169437f",
   "metadata": {},
   "source": []
  },
  {
   "cell_type": "markdown",
   "id": "1970dd08",
   "metadata": {},
   "source": []
  },
  {
   "cell_type": "markdown",
   "id": "16ce2f24",
   "metadata": {},
   "source": []
  },
  {
   "cell_type": "markdown",
   "id": "8ffeae0d",
   "metadata": {},
   "source": []
  },
  {
   "cell_type": "markdown",
   "id": "797865b9",
   "metadata": {},
   "source": []
  },
  {
   "cell_type": "markdown",
   "id": "5d0fc9be",
   "metadata": {},
   "source": [
    "#### Question 4: Create a plot showing the top 10 authors by rating."
   ]
  },
  {
   "cell_type": "code",
   "execution_count": 62,
   "id": "9eaf3032",
   "metadata": {},
   "outputs": [
    {
     "data": {
      "text/html": [
       "<div>\n",
       "<style scoped>\n",
       "    .dataframe tbody tr th:only-of-type {\n",
       "        vertical-align: middle;\n",
       "    }\n",
       "\n",
       "    .dataframe tbody tr th {\n",
       "        vertical-align: top;\n",
       "    }\n",
       "\n",
       "    .dataframe thead th {\n",
       "        text-align: right;\n",
       "    }\n",
       "</style>\n",
       "<table border=\"1\" class=\"dataframe\">\n",
       "  <thead>\n",
       "    <tr style=\"text-align: right;\">\n",
       "      <th></th>\n",
       "      <th>user_rating</th>\n",
       "    </tr>\n",
       "    <tr>\n",
       "      <th>author</th>\n",
       "      <th></th>\n",
       "    </tr>\n",
       "  </thead>\n",
       "  <tbody>\n",
       "    <tr>\n",
       "      <th>Jill Twiss</th>\n",
       "      <td>4.9</td>\n",
       "    </tr>\n",
       "    <tr>\n",
       "      <th>Nathan W. Pyle</th>\n",
       "      <td>4.9</td>\n",
       "    </tr>\n",
       "    <tr>\n",
       "      <th>Chip Gaines</th>\n",
       "      <td>4.9</td>\n",
       "    </tr>\n",
       "    <tr>\n",
       "      <th>Rush Limbaugh</th>\n",
       "      <td>4.9</td>\n",
       "    </tr>\n",
       "    <tr>\n",
       "      <th>Bill Martin Jr.</th>\n",
       "      <td>4.9</td>\n",
       "    </tr>\n",
       "    <tr>\n",
       "      <th>Emily Winfield Martin</th>\n",
       "      <td>4.9</td>\n",
       "    </tr>\n",
       "    <tr>\n",
       "      <th>Pete Souza</th>\n",
       "      <td>4.9</td>\n",
       "    </tr>\n",
       "    <tr>\n",
       "      <th>Patrick Thorpe</th>\n",
       "      <td>4.9</td>\n",
       "    </tr>\n",
       "    <tr>\n",
       "      <th>Lin-Manuel Miranda</th>\n",
       "      <td>4.9</td>\n",
       "    </tr>\n",
       "    <tr>\n",
       "      <th>Sherri Duskey Rinker</th>\n",
       "      <td>4.9</td>\n",
       "    </tr>\n",
       "  </tbody>\n",
       "</table>\n",
       "</div>"
      ],
      "text/plain": [
       "                       user_rating\n",
       "author                            \n",
       "Jill Twiss                     4.9\n",
       "Nathan W. Pyle                 4.9\n",
       "Chip Gaines                    4.9\n",
       "Rush Limbaugh                  4.9\n",
       "Bill Martin Jr.                4.9\n",
       "Emily Winfield Martin          4.9\n",
       "Pete Souza                     4.9\n",
       "Patrick Thorpe                 4.9\n",
       "Lin-Manuel Miranda             4.9\n",
       "Sherri Duskey Rinker           4.9"
      ]
     },
     "execution_count": 62,
     "metadata": {},
     "output_type": "execute_result"
    }
   ],
   "source": [
    "#group the dataset by author with mean values of the numerical columns\n",
    "author = df.groupby(['author']).mean()\n",
    "\n",
    "#sort descendingly by user rating\n",
    "author = author.sort_values('user_rating', ascending=False)\n",
    "\n",
    "#fetch top 10 authors with top ratings\n",
    "top_author = author.head(10)\n",
    "\n",
    "top_author[['user_rating']]"
   ]
  },
  {
   "cell_type": "code",
   "execution_count": 63,
   "id": "6b0c49e8",
   "metadata": {},
   "outputs": [
    {
     "data": {
      "image/png": "[encoded data removed]",
      "text/plain": [
       "<Figure size 576x504 with 1 Axes>"
      ]
     },
     "metadata": {
      "needs_background": "light"
     },
     "output_type": "display_data"
    }
   ],
   "source": [
    "#set canvas size\n",
    "plt.figure(figsize=(8,7))\n",
    "\n",
    "#create a barh chart and customization\n",
    "top_author['user_rating'].plot(kind='barh')\n",
    "plt.title('Top Ten Users with highest User Ratings', {'fontsize': 15})\n",
    "plt.xlabel('User Rating', {'fontsize': 13})\n",
    "plt.ylabel('Author', {'fontsize': 13});"
   ]
  },
  {
   "cell_type": "markdown",
   "id": "83286b14",
   "metadata": {},
   "source": []
  },
  {
   "cell_type": "markdown",
   "id": "c3f7109a",
   "metadata": {},
   "source": [
    "#### Question 5: Create a pie chart showing the distribution of book genre."
   ]
  },
  {
   "cell_type": "code",
   "execution_count": 64,
   "id": "1943a500",
   "metadata": {},
   "outputs": [
    {
     "data": {
      "text/plain": [
       "Non Fiction    310\n",
       "Fiction        240\n",
       "Name: genre, dtype: int64"
      ]
     },
     "execution_count": 64,
     "metadata": {},
     "output_type": "execute_result"
    }
   ],
   "source": [
    "#print the number of books from each category\n",
    "df['genre'].value_counts()"
   ]
  },
  {
   "cell_type": "code",
   "execution_count": 65,
   "id": "2f7c18ec",
   "metadata": {},
   "outputs": [
    {
     "data": {
      "image/png": "[encoded data removed]",
      "text/plain": [
       "<Figure size 576x432 with 1 Axes>"
      ]
     },
     "metadata": {},
     "output_type": "display_data"
    }
   ],
   "source": [
    "#set canvas size for the chart\n",
    "plt.figure(figsize=(8,6))\n",
    "\n",
    "#create a pie chart and customization\n",
    "plt.pie(x=df['genre'].value_counts(), startangle=90, \n",
    "        labels= df['genre'].value_counts().index, \n",
    "       autopct = '%1.1f%%', textprops={'fontsize': 14},\n",
    "       explode=[0.02,0])\n",
    "plt.title('Book Genre', {'fontsize': 15})\n",
    "plt.axis('equal');"
   ]
  },
  {
   "cell_type": "markdown",
   "id": "c65eb84c",
   "metadata": {},
   "source": [
    "##### <span style='color: blue;'>Answer: 310 books belong to non fiction genre constituting to 56.4% of the total dataset while 240 books belongs to the Fiction genre making just 43.6% of the entire dataset. Therefore, there are more books in the Non fiction genre than in the Fiction genre </span>"
   ]
  },
  {
   "cell_type": "markdown",
   "id": "ea08c898",
   "metadata": {},
   "source": []
  },
  {
   "cell_type": "markdown",
   "id": "931d9a7c",
   "metadata": {},
   "source": [
    "#### Question 6: Create a plot showing the top 5 books by number of reviews"
   ]
  },
  {
   "cell_type": "code",
   "execution_count": 66,
   "id": "fac8103d",
   "metadata": {},
   "outputs": [
    {
     "data": {
      "text/html": [
       "<div>\n",
       "<style scoped>\n",
       "    .dataframe tbody tr th:only-of-type {\n",
       "        vertical-align: middle;\n",
       "    }\n",
       "\n",
       "    .dataframe tbody tr th {\n",
       "        vertical-align: top;\n",
       "    }\n",
       "\n",
       "    .dataframe thead th {\n",
       "        text-align: right;\n",
       "    }\n",
       "</style>\n",
       "<table border=\"1\" class=\"dataframe\">\n",
       "  <thead>\n",
       "    <tr style=\"text-align: right;\">\n",
       "      <th></th>\n",
       "      <th>review</th>\n",
       "    </tr>\n",
       "    <tr>\n",
       "      <th>name</th>\n",
       "      <th></th>\n",
       "    </tr>\n",
       "  </thead>\n",
       "  <tbody>\n",
       "    <tr>\n",
       "      <th>The Fault in Our Stars</th>\n",
       "      <td>201928</td>\n",
       "    </tr>\n",
       "    <tr>\n",
       "      <th>Oh, the Places You'll Go!</th>\n",
       "      <td>174672</td>\n",
       "    </tr>\n",
       "    <tr>\n",
       "      <th>Gone Girl</th>\n",
       "      <td>171813</td>\n",
       "    </tr>\n",
       "    <tr>\n",
       "      <th>The Girl on the Train</th>\n",
       "      <td>158892</td>\n",
       "    </tr>\n",
       "    <tr>\n",
       "      <th>Unbroken: A World War II Story of Survival, Resilience, and Redemption</th>\n",
       "      <td>148365</td>\n",
       "    </tr>\n",
       "  </tbody>\n",
       "</table>\n",
       "</div>"
      ],
      "text/plain": [
       "                                                    review\n",
       "name                                                      \n",
       "The Fault in Our Stars                              201928\n",
       "Oh, the Places You'll Go!                           174672\n",
       "Gone Girl                                           171813\n",
       "The Girl on the Train                               158892\n",
       "Unbroken: A World War II Story of Survival, Res...  148365"
      ]
     },
     "execution_count": 66,
     "metadata": {},
     "output_type": "execute_result"
    }
   ],
   "source": [
    "#group the dataset by name with sum values of the numerical columns\n",
    "top_book = df.groupby(['name']).sum()\n",
    "\n",
    "#sort descendingly by reviews\n",
    "top_book = top_book.sort_values('review', ascending=False)\n",
    "\n",
    "#fetch top 5 authors with top ratings\n",
    "top_book = top_book.head(5)\n",
    "\n",
    "top_book[['review']]"
   ]
  },
  {
   "cell_type": "code",
   "execution_count": 67,
   "id": "440268fc",
   "metadata": {},
   "outputs": [
    {
     "data": {
      "image/png": "[encoded data removed]",
      "text/plain": [
       "<Figure size 576x432 with 1 Axes>"
      ]
     },
     "metadata": {
      "needs_background": "light"
     },
     "output_type": "display_data"
    }
   ],
   "source": [
    "#set canvas size\n",
    "plt.figure(figsize=(8,6))\n",
    "\n",
    "#create a barh chart and customization\n",
    "top_book['review'].plot(kind='barh')\n",
    "plt.title('Top 5 Books with the highest Reviews', {'fontsize': 15})\n",
    "plt.xlabel('Reviews', {'fontsize': 13})\n",
    "plt.ylabel('Book Name', {'fontsize': 13});"
   ]
  },
  {
   "cell_type": "markdown",
   "id": "b7a7e991",
   "metadata": {},
   "source": [
    "##### <span style='color: blue;'>Answer: The book titled 'The Fault in Our Stars' has the highest review with 201,928 total reviews followed by 'Oh, the Places You'll Go!' (174,672 reviews), 'Gone Girl' (171,813 reviews), 'The Girl on the Train' (158,892 reviews) and least on the list is 'Unbroken' (148365 reviews) </span>"
   ]
  },
  {
   "cell_type": "markdown",
   "id": "1ee08f4e",
   "metadata": {},
   "source": []
  },
  {
   "cell_type": "markdown",
   "id": "b2fa012f",
   "metadata": {},
   "source": [
    "#### Question 7: Are there any outliers? "
   ]
  },
  {
   "cell_type": "code",
   "execution_count": 68,
   "id": "cc75b668",
   "metadata": {},
   "outputs": [
    {
     "data": {
      "image/png": "[encoded data removed]",
      "text/plain": [
       "<Figure size 1296x576 with 3 Axes>"
      ]
     },
     "metadata": {
      "needs_background": "light"
     },
     "output_type": "display_data"
    }
   ],
   "source": [
    "#set canvas size and number of subplots\n",
    "fig, axes = plt.subplots(1, 3, figsize=(18, 8), sharex=True)\n",
    "\n",
    "#set a general title for the three charts\n",
    "fig.suptitle('OUTLIERS ANALYSIS')\n",
    "\n",
    "#create the first plot and title\n",
    "sns.boxplot(ax=axes[0], data=df, x='genre', y='price', width=0.5)\n",
    "axes[0].set_title('Price vs Genre')\n",
    "\n",
    "#create the second plot and title\n",
    "sns.boxplot(ax=axes[1], data=df, x='genre', y='user_rating', width=0.5)\n",
    "axes[1].set_title('User Rating vs Genre')\n",
    "\n",
    "#create the third plot and title\n",
    "sns.boxplot(ax=axes[2], data=df, x='genre', y='review', width=0.5)\n",
    "axes[2].set_title('Review vs Genre');"
   ]
  },
  {
   "cell_type": "markdown",
   "id": "8c97b149",
   "metadata": {},
   "source": [
    "##### <span style='color: blue;'>Answer: Its very Obvious that there are outliers in the dataset. The above chart shows the distributions of price, user rating and reviews based on the Book Genre using a box plot. The average Price of the books below 20, average user rating is around 4.6 and average revie is below 10,000. Any huge spike below or above these averages can be conisdered outliers.</span>"
   ]
  },
  {
   "cell_type": "markdown",
   "id": "6df50b72",
   "metadata": {},
   "source": [
    "#### Question 8: What is the average price of Books sold each year categorized by their Genres?\n",
    "\n"
   ]
  },
  {
   "cell_type": "code",
   "execution_count": 107,
   "id": "3cf2fc1e",
   "metadata": {},
   "outputs": [
    {
     "data": {
      "text/html": [
       "<div>\n",
       "<style scoped>\n",
       "    .dataframe tbody tr th:only-of-type {\n",
       "        vertical-align: middle;\n",
       "    }\n",
       "\n",
       "    .dataframe tbody tr th {\n",
       "        vertical-align: top;\n",
       "    }\n",
       "\n",
       "    .dataframe thead th {\n",
       "        text-align: right;\n",
       "    }\n",
       "</style>\n",
       "<table border=\"1\" class=\"dataframe\">\n",
       "  <thead>\n",
       "    <tr style=\"text-align: right;\">\n",
       "      <th></th>\n",
       "      <th></th>\n",
       "      <th>price</th>\n",
       "    </tr>\n",
       "    <tr>\n",
       "      <th>year</th>\n",
       "      <th>genre</th>\n",
       "      <th></th>\n",
       "    </tr>\n",
       "  </thead>\n",
       "  <tbody>\n",
       "    <tr>\n",
       "      <th rowspan=\"2\" valign=\"top\">2009</th>\n",
       "      <th>Fiction</th>\n",
       "      <td>15.583333</td>\n",
       "    </tr>\n",
       "    <tr>\n",
       "      <th>Non Fiction</th>\n",
       "      <td>15.230769</td>\n",
       "    </tr>\n",
       "    <tr>\n",
       "      <th rowspan=\"2\" valign=\"top\">2010</th>\n",
       "      <th>Fiction</th>\n",
       "      <td>9.700000</td>\n",
       "    </tr>\n",
       "    <tr>\n",
       "      <th>Non Fiction</th>\n",
       "      <td>16.000000</td>\n",
       "    </tr>\n",
       "    <tr>\n",
       "      <th rowspan=\"2\" valign=\"top\">2011</th>\n",
       "      <th>Fiction</th>\n",
       "      <td>11.619048</td>\n",
       "    </tr>\n",
       "    <tr>\n",
       "      <th>Non Fiction</th>\n",
       "      <td>17.620690</td>\n",
       "    </tr>\n",
       "    <tr>\n",
       "      <th rowspan=\"2\" valign=\"top\">2012</th>\n",
       "      <th>Fiction</th>\n",
       "      <td>12.285714</td>\n",
       "    </tr>\n",
       "    <tr>\n",
       "      <th>Non Fiction</th>\n",
       "      <td>17.482759</td>\n",
       "    </tr>\n",
       "    <tr>\n",
       "      <th rowspan=\"2\" valign=\"top\">2013</th>\n",
       "      <th>Fiction</th>\n",
       "      <td>10.708333</td>\n",
       "    </tr>\n",
       "    <tr>\n",
       "      <th>Non Fiction</th>\n",
       "      <td>18.192308</td>\n",
       "    </tr>\n",
       "    <tr>\n",
       "      <th rowspan=\"2\" valign=\"top\">2014</th>\n",
       "      <th>Fiction</th>\n",
       "      <td>10.172414</td>\n",
       "    </tr>\n",
       "    <tr>\n",
       "      <th>Non Fiction</th>\n",
       "      <td>20.809524</td>\n",
       "    </tr>\n",
       "    <tr>\n",
       "      <th rowspan=\"2\" valign=\"top\">2015</th>\n",
       "      <th>Fiction</th>\n",
       "      <td>9.352941</td>\n",
       "    </tr>\n",
       "    <tr>\n",
       "      <th>Non Fiction</th>\n",
       "      <td>10.969697</td>\n",
       "    </tr>\n",
       "    <tr>\n",
       "      <th rowspan=\"2\" valign=\"top\">2016</th>\n",
       "      <th>Fiction</th>\n",
       "      <td>12.631579</td>\n",
       "    </tr>\n",
       "    <tr>\n",
       "      <th>Non Fiction</th>\n",
       "      <td>13.516129</td>\n",
       "    </tr>\n",
       "    <tr>\n",
       "      <th rowspan=\"2\" valign=\"top\">2017</th>\n",
       "      <th>Fiction</th>\n",
       "      <td>8.833333</td>\n",
       "    </tr>\n",
       "    <tr>\n",
       "      <th>Non Fiction</th>\n",
       "      <td>13.730769</td>\n",
       "    </tr>\n",
       "    <tr>\n",
       "      <th rowspan=\"2\" valign=\"top\">2018</th>\n",
       "      <th>Fiction</th>\n",
       "      <td>8.761905</td>\n",
       "    </tr>\n",
       "    <tr>\n",
       "      <th>Non Fiction</th>\n",
       "      <td>11.793103</td>\n",
       "    </tr>\n",
       "    <tr>\n",
       "      <th rowspan=\"2\" valign=\"top\">2019</th>\n",
       "      <th>Fiction</th>\n",
       "      <td>9.350000</td>\n",
       "    </tr>\n",
       "    <tr>\n",
       "      <th>Non Fiction</th>\n",
       "      <td>10.566667</td>\n",
       "    </tr>\n",
       "  </tbody>\n",
       "</table>\n",
       "</div>"
      ],
      "text/plain": [
       "                      price\n",
       "year genre                 \n",
       "2009 Fiction      15.583333\n",
       "     Non Fiction  15.230769\n",
       "2010 Fiction       9.700000\n",
       "     Non Fiction  16.000000\n",
       "2011 Fiction      11.619048\n",
       "     Non Fiction  17.620690\n",
       "2012 Fiction      12.285714\n",
       "     Non Fiction  17.482759\n",
       "2013 Fiction      10.708333\n",
       "     Non Fiction  18.192308\n",
       "2014 Fiction      10.172414\n",
       "     Non Fiction  20.809524\n",
       "2015 Fiction       9.352941\n",
       "     Non Fiction  10.969697\n",
       "2016 Fiction      12.631579\n",
       "     Non Fiction  13.516129\n",
       "2017 Fiction       8.833333\n",
       "     Non Fiction  13.730769\n",
       "2018 Fiction       8.761905\n",
       "     Non Fiction  11.793103\n",
       "2019 Fiction       9.350000\n",
       "     Non Fiction  10.566667"
      ]
     },
     "execution_count": 107,
     "metadata": {},
     "output_type": "execute_result"
    }
   ],
   "source": [
    "#group the dataset by year and genre with mean estimation\n",
    "avg_yr_price = df.groupby(['year','genre']).mean()\n",
    "avg_yr_price[['price']]"
   ]
  },
  {
   "cell_type": "code",
   "execution_count": 114,
   "id": "80f17d4c",
   "metadata": {},
   "outputs": [
    {
     "data": {
      "image/png": "[encoded data removed]",
      "text/plain": [
       "<Figure size 432x288 with 1 Axes>"
      ]
     },
     "metadata": {
      "needs_background": "light"
     },
     "output_type": "display_data"
    }
   ],
   "source": [
    "#create a stacked barplot and customuize\n",
    "avg_yr_price.unstack().plot(kind='bar',y='price', stacked=True)\n",
    "plt.title('Average Price per Year and Genre', {'fontsize': 15})\n",
    "plt.xlabel('Year', {'fontsize': 13})\n",
    "plt.ylabel('Price', {'fontsize': 13});"
   ]
  },
  {
   "cell_type": "markdown",
   "id": "0f28969b",
   "metadata": {},
   "source": [
    "##### <span style='color: blue;'>Answer: The average prices spent on books drops by year especially for the Fictional booka</span>"
   ]
  },
  {
   "cell_type": "markdown",
   "id": "6b4e5227",
   "metadata": {},
   "source": [
    "#### 9. What is the average review of books per year categorized by their Genres?"
   ]
  },
  {
   "cell_type": "code",
   "execution_count": 121,
   "id": "078c5c1e",
   "metadata": {},
   "outputs": [
    {
     "data": {
      "text/html": [
       "<div>\n",
       "<style scoped>\n",
       "    .dataframe tbody tr th:only-of-type {\n",
       "        vertical-align: middle;\n",
       "    }\n",
       "\n",
       "    .dataframe tbody tr th {\n",
       "        vertical-align: top;\n",
       "    }\n",
       "\n",
       "    .dataframe thead th {\n",
       "        text-align: right;\n",
       "    }\n",
       "</style>\n",
       "<table border=\"1\" class=\"dataframe\">\n",
       "  <thead>\n",
       "    <tr style=\"text-align: right;\">\n",
       "      <th></th>\n",
       "      <th></th>\n",
       "      <th>review</th>\n",
       "    </tr>\n",
       "    <tr>\n",
       "      <th>year</th>\n",
       "      <th>genre</th>\n",
       "      <th></th>\n",
       "    </tr>\n",
       "  </thead>\n",
       "  <tbody>\n",
       "    <tr>\n",
       "      <th rowspan=\"2\" valign=\"top\">2009</th>\n",
       "      <th>Fiction</th>\n",
       "      <td>6534.333333</td>\n",
       "    </tr>\n",
       "    <tr>\n",
       "      <th>Non Fiction</th>\n",
       "      <td>3026.230769</td>\n",
       "    </tr>\n",
       "    <tr>\n",
       "      <th rowspan=\"2\" valign=\"top\">2010</th>\n",
       "      <th>Fiction</th>\n",
       "      <td>8409.250000</td>\n",
       "    </tr>\n",
       "    <tr>\n",
       "      <th>Non Fiction</th>\n",
       "      <td>3526.533333</td>\n",
       "    </tr>\n",
       "    <tr>\n",
       "      <th rowspan=\"2\" valign=\"top\">2011</th>\n",
       "      <th>Fiction</th>\n",
       "      <td>10335.285714</td>\n",
       "    </tr>\n",
       "    <tr>\n",
       "      <th>Non Fiction</th>\n",
       "      <td>6482.758621</td>\n",
       "    </tr>\n",
       "    <tr>\n",
       "      <th rowspan=\"2\" valign=\"top\">2012</th>\n",
       "      <th>Fiction</th>\n",
       "      <td>19896.238095</td>\n",
       "    </tr>\n",
       "    <tr>\n",
       "      <th>Non Fiction</th>\n",
       "      <td>8162.931034</td>\n",
       "    </tr>\n",
       "    <tr>\n",
       "      <th rowspan=\"2\" valign=\"top\">2013</th>\n",
       "      <th>Fiction</th>\n",
       "      <td>19986.833333</td>\n",
       "    </tr>\n",
       "    <tr>\n",
       "      <th>Non Fiction</th>\n",
       "      <td>6739.346154</td>\n",
       "    </tr>\n",
       "    <tr>\n",
       "      <th rowspan=\"2\" valign=\"top\">2014</th>\n",
       "      <th>Fiction</th>\n",
       "      <td>19382.862069</td>\n",
       "    </tr>\n",
       "    <tr>\n",
       "      <th>Non Fiction</th>\n",
       "      <td>10994.952381</td>\n",
       "    </tr>\n",
       "    <tr>\n",
       "      <th rowspan=\"2\" valign=\"top\">2015</th>\n",
       "      <th>Fiction</th>\n",
       "      <td>23706.117647</td>\n",
       "    </tr>\n",
       "    <tr>\n",
       "      <th>Non Fiction</th>\n",
       "      <td>9353.484848</td>\n",
       "    </tr>\n",
       "    <tr>\n",
       "      <th rowspan=\"2\" valign=\"top\">2016</th>\n",
       "      <th>Fiction</th>\n",
       "      <td>19563.263158</td>\n",
       "    </tr>\n",
       "    <tr>\n",
       "      <th>Non Fiction</th>\n",
       "      <td>10906.387097</td>\n",
       "    </tr>\n",
       "    <tr>\n",
       "      <th rowspan=\"2\" valign=\"top\">2017</th>\n",
       "      <th>Fiction</th>\n",
       "      <td>14611.833333</td>\n",
       "    </tr>\n",
       "    <tr>\n",
       "      <th>Non Fiction</th>\n",
       "      <td>11297.538462</td>\n",
       "    </tr>\n",
       "    <tr>\n",
       "      <th rowspan=\"2\" valign=\"top\">2018</th>\n",
       "      <th>Fiction</th>\n",
       "      <td>12710.428571</td>\n",
       "    </tr>\n",
       "    <tr>\n",
       "      <th>Non Fiction</th>\n",
       "      <td>14813.862069</td>\n",
       "    </tr>\n",
       "    <tr>\n",
       "      <th rowspan=\"2\" valign=\"top\">2019</th>\n",
       "      <th>Fiction</th>\n",
       "      <td>18507.150000</td>\n",
       "    </tr>\n",
       "    <tr>\n",
       "      <th>Non Fiction</th>\n",
       "      <td>14159.133333</td>\n",
       "    </tr>\n",
       "  </tbody>\n",
       "</table>\n",
       "</div>"
      ],
      "text/plain": [
       "                        review\n",
       "year genre                    \n",
       "2009 Fiction       6534.333333\n",
       "     Non Fiction   3026.230769\n",
       "2010 Fiction       8409.250000\n",
       "     Non Fiction   3526.533333\n",
       "2011 Fiction      10335.285714\n",
       "     Non Fiction   6482.758621\n",
       "2012 Fiction      19896.238095\n",
       "     Non Fiction   8162.931034\n",
       "2013 Fiction      19986.833333\n",
       "     Non Fiction   6739.346154\n",
       "2014 Fiction      19382.862069\n",
       "     Non Fiction  10994.952381\n",
       "2015 Fiction      23706.117647\n",
       "     Non Fiction   9353.484848\n",
       "2016 Fiction      19563.263158\n",
       "     Non Fiction  10906.387097\n",
       "2017 Fiction      14611.833333\n",
       "     Non Fiction  11297.538462\n",
       "2018 Fiction      12710.428571\n",
       "     Non Fiction  14813.862069\n",
       "2019 Fiction      18507.150000\n",
       "     Non Fiction  14159.133333"
      ]
     },
     "execution_count": 121,
     "metadata": {},
     "output_type": "execute_result"
    }
   ],
   "source": [
    "review_metrics = df.groupby(['year', 'genre']).mean()\n",
    "review_metrics = review_metrics[['review']]\n",
    "review_metrics"
   ]
  },
  {
   "cell_type": "code",
   "execution_count": 139,
   "id": "018ec5ba",
   "metadata": {},
   "outputs": [
    {
     "data": {
      "text/plain": [
       "<Figure size 720x432 with 0 Axes>"
      ]
     },
     "metadata": {},
     "output_type": "display_data"
    },
    {
     "data": {
      "image/png": "[encoded data removed]",
      "text/plain": [
       "<Figure size 432x288 with 1 Axes>"
      ]
     },
     "metadata": {
      "needs_background": "light"
     },
     "output_type": "display_data"
    }
   ],
   "source": [
    "#set canvas size\n",
    "plt.figure(figsize=(10,6))\n",
    "\n",
    "review_metrics.unstack().plot()\n",
    "plt.title('Average Review of Books per Year', {'fontsize': 15})\n",
    "plt.ylabel('Review', {'fontsize': 13})\n",
    "plt.legend(['Fiction', 'Non Fiction'], loc='upper right', frameon=False);"
   ]
  },
  {
   "cell_type": "markdown",
   "id": "21eb4494",
   "metadata": {},
   "source": [
    "##### <span style='color: blue;'>Answer: The plot above shows the trend of the average reviews made each year. The non fictional books get increasing reviews by year until 2015 when there was a fall and picked up in 2018. For non fictional books, there has been an increasing trend on the average reviews made by year. </span>"
   ]
  },
  {
   "cell_type": "markdown",
   "id": "69939b33",
   "metadata": {},
   "source": [
    "#### 10. What is the correlation between the numerical columns?"
   ]
  },
  {
   "cell_type": "code",
   "execution_count": 137,
   "id": "27e1e033",
   "metadata": {},
   "outputs": [
    {
     "data": {
      "text/html": [
       "<div>\n",
       "<style scoped>\n",
       "    .dataframe tbody tr th:only-of-type {\n",
       "        vertical-align: middle;\n",
       "    }\n",
       "\n",
       "    .dataframe tbody tr th {\n",
       "        vertical-align: top;\n",
       "    }\n",
       "\n",
       "    .dataframe thead th {\n",
       "        text-align: right;\n",
       "    }\n",
       "</style>\n",
       "<table border=\"1\" class=\"dataframe\">\n",
       "  <thead>\n",
       "    <tr style=\"text-align: right;\">\n",
       "      <th></th>\n",
       "      <th>user_rating</th>\n",
       "      <th>review</th>\n",
       "      <th>price</th>\n",
       "    </tr>\n",
       "  </thead>\n",
       "  <tbody>\n",
       "    <tr>\n",
       "      <th>user_rating</th>\n",
       "      <td>1.000000</td>\n",
       "      <td>-0.001729</td>\n",
       "      <td>-0.133086</td>\n",
       "    </tr>\n",
       "    <tr>\n",
       "      <th>review</th>\n",
       "      <td>-0.001729</td>\n",
       "      <td>1.000000</td>\n",
       "      <td>-0.109182</td>\n",
       "    </tr>\n",
       "    <tr>\n",
       "      <th>price</th>\n",
       "      <td>-0.133086</td>\n",
       "      <td>-0.109182</td>\n",
       "      <td>1.000000</td>\n",
       "    </tr>\n",
       "  </tbody>\n",
       "</table>\n",
       "</div>"
      ],
      "text/plain": [
       "             user_rating    review     price\n",
       "user_rating     1.000000 -0.001729 -0.133086\n",
       "review         -0.001729  1.000000 -0.109182\n",
       "price          -0.133086 -0.109182  1.000000"
      ]
     },
     "execution_count": 137,
     "metadata": {},
     "output_type": "execute_result"
    }
   ],
   "source": [
    "#create a sub_dataset corr containing the columns\n",
    "cor = df[['user_rating', 'review', 'price']]\n",
    "\n",
    "#create correlation table corr\n",
    "cor_table = cor.corr()\n",
    "\n",
    "#print cor_table\n",
    "cor_table"
   ]
  },
  {
   "cell_type": "code",
   "execution_count": 154,
   "id": "f72ace55",
   "metadata": {},
   "outputs": [
    {
     "data": {
      "image/png": "[encoded data removed]",
      "text/plain": [
       "<Figure size 504x360 with 2 Axes>"
      ]
     },
     "metadata": {
      "needs_background": "light"
     },
     "output_type": "display_data"
    }
   ],
   "source": [
    "#visualizing the correlation using seaborn Heatmap\n",
    "plt.figure(figsize=(7,5))\n",
    "sns.heatmap(cor_table, cmap='Blues', annot=True, annot_kws = { 'fontsize' : 12 })\n",
    "plt.title('Correlation Visualization', {'fontsize': 15} );"
   ]
  },
  {
   "cell_type": "markdown",
   "id": "cdbcb66f",
   "metadata": {},
   "source": [
    "##### <span style='color: blue;'>Answer: The visualization above shows the relationship between the numerical columns i.e. (user_rating, reviews, price). It can be deduced that the three columns are negatively correlated to one another. </span>"
   ]
  },
  {
   "cell_type": "markdown",
   "id": "db24a972",
   "metadata": {},
   "source": [
    "### Thanks!!!"
   ]
  }
 ],
 "metadata": {
  "kernelspec": {
   "display_name": "Python 3",
   "language": "python",
   "name": "python3"
  },
  "language_info": {
   "codemirror_mode": {
    "name": "ipython",
    "version": 3
   },
   "file_extension": ".py",
   "mimetype": "text/x-python",
   "name": "python",
   "nbconvert_exporter": "python",
   "pygments_lexer": "ipython3",
   "version": "3.8.8"
  }
 },
 "nbformat": 4,
 "nbformat_minor": 5
}
